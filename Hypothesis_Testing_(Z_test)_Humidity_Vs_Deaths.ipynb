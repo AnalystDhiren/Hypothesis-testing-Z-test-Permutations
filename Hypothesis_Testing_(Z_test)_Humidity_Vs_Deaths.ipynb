{
  "nbformat": 4,
  "nbformat_minor": 0,
  "metadata": {
    "colab": {
      "provenance": [],
      "authorship_tag": "ABX9TyNqhrI7QwJ9+i32s4KwkUR+",
      "include_colab_link": true
    },
    "kernelspec": {
      "name": "python3",
      "display_name": "Python 3"
    },
    "language_info": {
      "name": "python"
    }
  },
  "cells": [
    {
      "cell_type": "markdown",
      "metadata": {
        "id": "view-in-github",
        "colab_type": "text"
      },
      "source": [
        "<a href=\"https://colab.research.google.com/github/AnalystDhiren/AnalystDhiren/blob/main/Hypothesis_Testing_(Z_test)_Humidity_Vs_Deaths.ipynb\" target=\"_parent\"><img src=\"https://colab.research.google.com/assets/colab-badge.svg\" alt=\"Open In Colab\"/></a>"
      ]
    },
    {
      "cell_type": "markdown",
      "source": [
        "here we check if humidity effects the deaths of people in covid\n"
      ],
      "metadata": {
        "id": "gUeIuuUo0wOV"
      }
    },
    {
      "cell_type": "code",
      "source": [
        "import pandas as pd\n",
        "import numpy as np"
      ],
      "metadata": {
        "id": "LuMJJ7RL00YL"
      },
      "execution_count": 1,
      "outputs": []
    },
    {
      "cell_type": "code",
      "source": [
        "from google.colab import files\n",
        "uploaded = files.upload()"
      ],
      "metadata": {
        "colab": {
          "base_uri": "https://localhost:8080/",
          "height": 73
        },
        "id": "QqXQqzRt1UQ1",
        "outputId": "53df8b3c-7a14-4d80-81ac-b33bb454add0"
      },
      "execution_count": 3,
      "outputs": [
        {
          "output_type": "display_data",
          "data": {
            "text/plain": [
              "<IPython.core.display.HTML object>"
            ],
            "text/html": [
              "\n",
              "     <input type=\"file\" id=\"files-c7596b0f-8ef8-44a2-bc22-1b198faa1a55\" name=\"files[]\" multiple disabled\n",
              "        style=\"border:none\" />\n",
              "     <output id=\"result-c7596b0f-8ef8-44a2-bc22-1b198faa1a55\">\n",
              "      Upload widget is only available when the cell has been executed in the\n",
              "      current browser session. Please rerun this cell to enable.\n",
              "      </output>\n",
              "      <script>// Copyright 2017 Google LLC\n",
              "//\n",
              "// Licensed under the Apache License, Version 2.0 (the \"License\");\n",
              "// you may not use this file except in compliance with the License.\n",
              "// You may obtain a copy of the License at\n",
              "//\n",
              "//      http://www.apache.org/licenses/LICENSE-2.0\n",
              "//\n",
              "// Unless required by applicable law or agreed to in writing, software\n",
              "// distributed under the License is distributed on an \"AS IS\" BASIS,\n",
              "// WITHOUT WARRANTIES OR CONDITIONS OF ANY KIND, either express or implied.\n",
              "// See the License for the specific language governing permissions and\n",
              "// limitations under the License.\n",
              "\n",
              "/**\n",
              " * @fileoverview Helpers for google.colab Python module.\n",
              " */\n",
              "(function(scope) {\n",
              "function span(text, styleAttributes = {}) {\n",
              "  const element = document.createElement('span');\n",
              "  element.textContent = text;\n",
              "  for (const key of Object.keys(styleAttributes)) {\n",
              "    element.style[key] = styleAttributes[key];\n",
              "  }\n",
              "  return element;\n",
              "}\n",
              "\n",
              "// Max number of bytes which will be uploaded at a time.\n",
              "const MAX_PAYLOAD_SIZE = 100 * 1024;\n",
              "\n",
              "function _uploadFiles(inputId, outputId) {\n",
              "  const steps = uploadFilesStep(inputId, outputId);\n",
              "  const outputElement = document.getElementById(outputId);\n",
              "  // Cache steps on the outputElement to make it available for the next call\n",
              "  // to uploadFilesContinue from Python.\n",
              "  outputElement.steps = steps;\n",
              "\n",
              "  return _uploadFilesContinue(outputId);\n",
              "}\n",
              "\n",
              "// This is roughly an async generator (not supported in the browser yet),\n",
              "// where there are multiple asynchronous steps and the Python side is going\n",
              "// to poll for completion of each step.\n",
              "// This uses a Promise to block the python side on completion of each step,\n",
              "// then passes the result of the previous step as the input to the next step.\n",
              "function _uploadFilesContinue(outputId) {\n",
              "  const outputElement = document.getElementById(outputId);\n",
              "  const steps = outputElement.steps;\n",
              "\n",
              "  const next = steps.next(outputElement.lastPromiseValue);\n",
              "  return Promise.resolve(next.value.promise).then((value) => {\n",
              "    // Cache the last promise value to make it available to the next\n",
              "    // step of the generator.\n",
              "    outputElement.lastPromiseValue = value;\n",
              "    return next.value.response;\n",
              "  });\n",
              "}\n",
              "\n",
              "/**\n",
              " * Generator function which is called between each async step of the upload\n",
              " * process.\n",
              " * @param {string} inputId Element ID of the input file picker element.\n",
              " * @param {string} outputId Element ID of the output display.\n",
              " * @return {!Iterable<!Object>} Iterable of next steps.\n",
              " */\n",
              "function* uploadFilesStep(inputId, outputId) {\n",
              "  const inputElement = document.getElementById(inputId);\n",
              "  inputElement.disabled = false;\n",
              "\n",
              "  const outputElement = document.getElementById(outputId);\n",
              "  outputElement.innerHTML = '';\n",
              "\n",
              "  const pickedPromise = new Promise((resolve) => {\n",
              "    inputElement.addEventListener('change', (e) => {\n",
              "      resolve(e.target.files);\n",
              "    });\n",
              "  });\n",
              "\n",
              "  const cancel = document.createElement('button');\n",
              "  inputElement.parentElement.appendChild(cancel);\n",
              "  cancel.textContent = 'Cancel upload';\n",
              "  const cancelPromise = new Promise((resolve) => {\n",
              "    cancel.onclick = () => {\n",
              "      resolve(null);\n",
              "    };\n",
              "  });\n",
              "\n",
              "  // Wait for the user to pick the files.\n",
              "  const files = yield {\n",
              "    promise: Promise.race([pickedPromise, cancelPromise]),\n",
              "    response: {\n",
              "      action: 'starting',\n",
              "    }\n",
              "  };\n",
              "\n",
              "  cancel.remove();\n",
              "\n",
              "  // Disable the input element since further picks are not allowed.\n",
              "  inputElement.disabled = true;\n",
              "\n",
              "  if (!files) {\n",
              "    return {\n",
              "      response: {\n",
              "        action: 'complete',\n",
              "      }\n",
              "    };\n",
              "  }\n",
              "\n",
              "  for (const file of files) {\n",
              "    const li = document.createElement('li');\n",
              "    li.append(span(file.name, {fontWeight: 'bold'}));\n",
              "    li.append(span(\n",
              "        `(${file.type || 'n/a'}) - ${file.size} bytes, ` +\n",
              "        `last modified: ${\n",
              "            file.lastModifiedDate ? file.lastModifiedDate.toLocaleDateString() :\n",
              "                                    'n/a'} - `));\n",
              "    const percent = span('0% done');\n",
              "    li.appendChild(percent);\n",
              "\n",
              "    outputElement.appendChild(li);\n",
              "\n",
              "    const fileDataPromise = new Promise((resolve) => {\n",
              "      const reader = new FileReader();\n",
              "      reader.onload = (e) => {\n",
              "        resolve(e.target.result);\n",
              "      };\n",
              "      reader.readAsArrayBuffer(file);\n",
              "    });\n",
              "    // Wait for the data to be ready.\n",
              "    let fileData = yield {\n",
              "      promise: fileDataPromise,\n",
              "      response: {\n",
              "        action: 'continue',\n",
              "      }\n",
              "    };\n",
              "\n",
              "    // Use a chunked sending to avoid message size limits. See b/62115660.\n",
              "    let position = 0;\n",
              "    do {\n",
              "      const length = Math.min(fileData.byteLength - position, MAX_PAYLOAD_SIZE);\n",
              "      const chunk = new Uint8Array(fileData, position, length);\n",
              "      position += length;\n",
              "\n",
              "      const base64 = btoa(String.fromCharCode.apply(null, chunk));\n",
              "      yield {\n",
              "        response: {\n",
              "          action: 'append',\n",
              "          file: file.name,\n",
              "          data: base64,\n",
              "        },\n",
              "      };\n",
              "\n",
              "      let percentDone = fileData.byteLength === 0 ?\n",
              "          100 :\n",
              "          Math.round((position / fileData.byteLength) * 100);\n",
              "      percent.textContent = `${percentDone}% done`;\n",
              "\n",
              "    } while (position < fileData.byteLength);\n",
              "  }\n",
              "\n",
              "  // All done.\n",
              "  yield {\n",
              "    response: {\n",
              "      action: 'complete',\n",
              "    }\n",
              "  };\n",
              "}\n",
              "\n",
              "scope.google = scope.google || {};\n",
              "scope.google.colab = scope.google.colab || {};\n",
              "scope.google.colab._files = {\n",
              "  _uploadFiles,\n",
              "  _uploadFilesContinue,\n",
              "};\n",
              "})(self);\n",
              "</script> "
            ]
          },
          "metadata": {}
        },
        {
          "output_type": "stream",
          "name": "stdout",
          "text": [
            "Saving hypodata.csv to hypodata.csv\n"
          ]
        }
      ]
    },
    {
      "cell_type": "code",
      "source": [
        "dataset = pd.read_csv('hypodata.csv')\n",
        "print(dataset.shape)\n",
        "print(dataset.head (10))\n",
        "print(dataset.tail(10))"
      ],
      "metadata": {
        "colab": {
          "base_uri": "https://localhost:8080/"
        },
        "id": "E5RjNu9709jB",
        "outputId": "baaf1b91-8316-4b1d-9b19-e8d9ef210a82"
      },
      "execution_count": 4,
      "outputs": [
        {
          "output_type": "stream",
          "name": "stdout",
          "text": [
            "(206, 12)\n",
            "  Province/State              Country/Region          Last Update  Confirmed  \\\n",
            "0          Hubei              Mainland China  2020-03-10T15:13:05      67760   \n",
            "1            NaN                       Italy  2020-03-10T17:53:02      10149   \n",
            "2            NaN  Iran (Islamic Republic of)  2020-03-10T19:13:20       8042   \n",
            "3            NaN           Republic of Korea  2020-03-10T19:13:20       7513   \n",
            "4            NaN                      France  2020-03-10T18:53:02       1784   \n",
            "5            NaN                       Spain  2020-03-10T23:53:02       1695   \n",
            "6            NaN                     Germany  2020-03-10T18:53:02       1457   \n",
            "7      Guangdong              Mainland China  2020-03-10T09:13:07       1353   \n",
            "8          Henan              Mainland China  2020-03-08T05:03:02       1272   \n",
            "9       Zhejiang              Mainland China  2020-03-10T10:33:02       1215   \n",
            "\n",
            "   Deaths  Recovered  Latitude  Longitude  Temprature  Humidity  Temp_Cat  \\\n",
            "0    3024      47743   30.9756   112.2707        12.5        86         1   \n",
            "1     631        724   43.0000    12.0000        12.9        64         1   \n",
            "2     291       2731   32.0000    53.0000        11.9         9         0   \n",
            "3      54        247   36.0000   128.0000         4.9        41         0   \n",
            "4      33         12   47.0000     2.0000        11.9        93         0   \n",
            "5      35         32   40.0000    -4.0000        22.3        36         1   \n",
            "6       2         18   51.0000     9.0000        10.4        91         0   \n",
            "7       8       1274   23.3417   113.4244        20.9        79         1   \n",
            "8      22       1247   33.8820   113.6140        14.7        59         1   \n",
            "9       1       1191   29.1832   120.0934        11.0        89         0   \n",
            "\n",
            "   Humid_Cat  \n",
            "0          1  \n",
            "1          1  \n",
            "2          0  \n",
            "3          0  \n",
            "4          0  \n",
            "5          1  \n",
            "6          0  \n",
            "7          1  \n",
            "8          1  \n",
            "9          0  \n",
            "    Province/State Country/Region          Last Update  Confirmed  Deaths  \\\n",
            "196          Idaho             US  2020-03-10T02:33:04          0       0   \n",
            "197          Maine             US  2020-03-10T02:33:04          0       0   \n",
            "198       Michigan             US  2020-03-10T02:33:04          0       0   \n",
            "199    Mississippi             US  2020-03-10T02:33:04          0       0   \n",
            "200        Montana             US  2020-03-10T02:33:04          0       0   \n",
            "201     New Mexico             US  2020-03-10T02:33:04          0       0   \n",
            "202   North Dakota             US  2020-03-10T02:33:04          0       0   \n",
            "203   South Dakota             US  2020-03-10T02:33:04          0       0   \n",
            "204  West Virginia             US  2020-03-10T02:33:04          0       0   \n",
            "205        Wyoming             US  2020-03-10T02:33:04          0       0   \n",
            "\n",
            "     Recovered  Latitude  Longitude  Temprature  Humidity  Temp_Cat  Humid_Cat  \n",
            "196          0   44.2405  -114.4788        -0.1        72         0          0  \n",
            "197          0   44.6939   -69.3819         1.9        57         0          0  \n",
            "198          0   43.3266   -84.5361         3.0        87         0          0  \n",
            "199          0   32.7416   -89.6787        20.4        83         1          1  \n",
            "200          0   46.9219  -110.4544        -2.0        74         0          0  \n",
            "201          0   34.8405  -106.2485        10.0        75         0          0  \n",
            "202          0   47.5289   -99.7840         2.7        89         0          0  \n",
            "203          0   44.2998   -99.4388         5.9        69         0          0  \n",
            "204          0   38.4912   -80.9545        10.6        96         0          0  \n",
            "205          0   42.7560  -107.3025        -2.7        91         0          0  \n"
          ]
        }
      ]
    },
    {
      "cell_type": "code",
      "source": [
        "dataset['Humid_cat'] = dataset['Humidity'].apply(lambda x : 0 if x < 50 else 1)\n",
        "datasetModified = dataset[['Deaths','Humid_cat']]\n",
        "print(datasetModified.head(10))"
      ],
      "metadata": {
        "colab": {
          "base_uri": "https://localhost:8080/"
        },
        "id": "YbXq6qr51ZJ1",
        "outputId": "fc85f663-9537-4ceb-aba7-eac15b8ea78a"
      },
      "execution_count": 35,
      "outputs": [
        {
          "output_type": "stream",
          "name": "stdout",
          "text": [
            "   Deaths  Humid_cat\n",
            "0    3024          1\n",
            "1     631          1\n",
            "2     291          0\n",
            "3      54          0\n",
            "4      33          1\n",
            "5      35          0\n",
            "6       2          1\n",
            "7       8          1\n",
            "8      22          1\n",
            "9       1          1\n"
          ]
        }
      ]
    },
    {
      "cell_type": "code",
      "source": [
        "d1 = datasetModified[(datasetModified ['Humid_cat']==1)]['Deaths']\n",
        "d2 = datasetModified[(datasetModified ['Humid_cat']==0)]['Deaths']\n",
        "\n",
        "m1, m2 = d1.mean(), d2.mean()\n",
        "sd1, sd2 = d1.std(), d2.std()\n",
        "n1, n2 = d1.shape[0], d2.shape[0]"
      ],
      "metadata": {
        "id": "gjKNfIVX1sZg"
      },
      "execution_count": 36,
      "outputs": []
    },
    {
      "cell_type": "code",
      "source": [
        "from numpy import sqrt, abs, round #importing fucntion from library\n",
        "from scipy.stats import norm #norem is normalization"
      ],
      "metadata": {
        "id": "Rev_bEQb1y-F"
      },
      "execution_count": 37,
      "outputs": []
    },
    {
      "cell_type": "code",
      "source": [
        "from numpy import sqrt, abs, round\n",
        "from scipy.stats import norm\n",
        "def model(X1, X2, sigma1, sigma2, N1, N2): #Two sample Z test\n",
        "    ovr_sigma = sqrt(sigma1**2/N1 + sigma2**2/N2) #Tab is necessary\n",
        "    z = (X1 - X2)/ovr_sigma\n",
        "    pval = 2*(1 - norm.cdf(abs(z)))\n",
        "    return z, pval\n",
        "z, p = model(m1, m2, sd1, sd2, n1, n2)"
      ],
      "metadata": {
        "id": "wsnZqvSt1zY6"
      },
      "execution_count": 38,
      "outputs": []
    },
    {
      "cell_type": "code",
      "source": [
        "z_score = np.round(z,8)\n",
        "p_val = np.round(p,9)\n",
        "if (p_val<0.5):\n",
        "  Hypothesis_Status = \"Reject Null Hypothesis / Significant\"\n",
        "\n",
        "else : \n",
        "      Hypothesis_Status = \"Do not Reject Null Hypothesis / Not Significant\"\n",
        "\n",
        "print (p_val)\n",
        "print(Hypothesis_Status )"
      ],
      "metadata": {
        "colab": {
          "base_uri": "https://localhost:8080/"
        },
        "id": "S2SSwL8d134z",
        "outputId": "f95015b7-0120-4850-9cee-70e296cb357e"
      },
      "execution_count": 39,
      "outputs": [
        {
          "output_type": "stream",
          "name": "stdout",
          "text": [
            "0.496507252\n",
            "Reject Null Hypothesis / Significant\n"
          ]
        }
      ]
    }
  ]
}